{
 "cells": [
  {
   "cell_type": "markdown",
   "metadata": {},
   "source": [
    "# Домашнее задание по курсу Инфраструктура Больших данных"
   ]
  },
  {
   "cell_type": "code",
   "execution_count": 1,
   "metadata": {},
   "outputs": [],
   "source": [
    "import findspark\n",
    "findspark.init()\n",
    "\n",
    "import pyspark\n",
    "from pyspark.sql import SparkSession\n",
    "from pyspark.sql.functions import *\n",
    "from pyspark.sql.types import ArrayType, StringType\n",
    "from pyspark import broadcast\n",
    "\n",
    "\n",
    "import emoji\n",
    "\n",
    "from IPython.core.interactiveshell import InteractiveShell\n",
    "InteractiveShell.ast_node_interactivity = \"all\"\n",
    "\n",
    "spark = SparkSession.builder \\\n",
    "    .master('local') \\\n",
    "    .appName('BigData-HW') \\\n",
    "    .config('spark.executor.memory', '16gb') \\\n",
    "    .config(\"spark.cores.max\", \"8\") \\\n",
    "    .getOrCreate()\n",
    "\n",
    "RESULTS = 'json_results/'"
   ]
  },
  {
   "cell_type": "code",
   "execution_count": 2,
   "metadata": {},
   "outputs": [
    {
     "data": {
      "text/plain": [
       "<function __main__.init_json_to_parquet()>"
      ]
     },
     "execution_count": 2,
     "metadata": {},
     "output_type": "execute_result"
    }
   ],
   "source": [
    "def init_json_to_parquet():\n",
    "    spark.read.json('./followers_posts_api_final.json').write.parquet('./followers_posts_api_final.parquet')\n",
    "    spark.read.json('./posts_api.json').write.parquet('./posts_api.parquet')\n",
    "\n",
    "def get_init_files():\n",
    "    files_path = ['./followers.parquet', './posts_likes.parquet', \n",
    "                  './followers_posts_likes.parquet', './followers_posts_api_final.parquet', \n",
    "                  './posts_api.parquet']\n",
    "    return map(lambda file_path : spark.read.parquet(file_path), files_path)\n",
    "\n",
    "def save_results(dataframe, path):\n",
    "    dataframe.write.json(RESULTS + path)\n",
    "\n",
    "\n",
    "init_json_to_parquet\n",
    "\n",
    "[followers, posts_likes, followers_posts_likes, followers_posts, posts] = get_init_files()"
   ]
  },
  {
   "cell_type": "code",
   "execution_count": 3,
   "metadata": {},
   "outputs": [],
   "source": [
    "top20_comments_1 = posts.select('key','comments.count').sort(desc(\"count\")).limit(20)\n",
    "top20_comments_2 = followers_posts.select('key','comments.count').sort(desc(\"count\")).limit(20)\n",
    "\n",
    "save_results(top20_comments_1, 'task1_top20_comments1.json')\n",
    "save_results(top20_comments_2, 'task1_top20_comments2.json')"
   ]
  },
  {
   "cell_type": "code",
   "execution_count": 4,
   "metadata": {},
   "outputs": [
    {
     "name": "stdout",
     "output_type": "stream",
     "text": [
      "+---------+-----+\n",
      "|      key|count|\n",
      "+---------+-----+\n",
      "|-94_32022| 1637|\n",
      "|-94_35068| 1629|\n",
      "|-94_17492| 1516|\n",
      "|-94_18526| 1026|\n",
      "|-94_19552|  955|\n",
      "|-94_41468|  952|\n",
      "|-94_19419|  868|\n",
      "|-94_29046|  824|\n",
      "|-94_32546|  786|\n",
      "|-94_24085|  765|\n",
      "|-94_40180|  759|\n",
      "|-94_33658|  708|\n",
      "|-94_13532|  633|\n",
      "|-94_40842|  631|\n",
      "|-94_35117|  588|\n",
      "|-94_17014|  581|\n",
      "|-94_19583|  553|\n",
      "|-94_19809|  552|\n",
      "|-94_27455|  550|\n",
      "|-94_11999|  549|\n",
      "+---------+-----+\n",
      "\n",
      "+----------------+-----+\n",
      "|             key|count|\n",
      "+----------------+-----+\n",
      "|119920644_425873| 3271|\n",
      "|   368925151_330| 2745|\n",
      "|  101059709_3309| 2505|\n",
      "| 119920644_46298| 2457|\n",
      "|   368925151_329| 2194|\n",
      "|119920644_311504| 2160|\n",
      "|119920644_340354| 2148|\n",
      "| 119920644_90055| 2145|\n",
      "| 187877260_31472| 2099|\n",
      "|119920644_388261| 2092|\n",
      "|119920644_399151| 2000|\n",
      "| 119920644_46295| 1968|\n",
      "|119920644_428224| 1914|\n",
      "| 119920644_46264| 1776|\n",
      "|119920644_387736| 1739|\n",
      "|119920644_322736| 1665|\n",
      "|     640248_4004| 1593|\n",
      "| 187877260_32164| 1574|\n",
      "| 119920644_46287| 1517|\n",
      "| 124015630_16762| 1515|\n",
      "+----------------+-----+\n",
      "\n"
     ]
    }
   ],
   "source": [
    "top20_likes_1 = posts.select('key','likes.count').sort(desc(\"count\")).limit(20)\n",
    "top20_likes_2 = followers_posts.select('key','likes.count').sort(desc(\"count\")).limit(20)\n",
    "\n",
    "top20_likes_1.show()\n",
    "top20_likes_2.show()\n",
    "\n",
    "save_results(top20_likes_1, 'task1_top20_likes1.json')\n",
    "save_results(top20_likes_2, 'task1_top20_likes2.json')"
   ]
  },
  {
   "cell_type": "code",
   "execution_count": 5,
   "metadata": {},
   "outputs": [],
   "source": [
    "top20_reposts_1 = posts.select('key','reposts.count').sort(desc(\"count\")).limit(20)\n",
    "top20_reposts_2 = followers_posts.select('key','reposts.count').sort(desc(\"count\")).limit(20)\n",
    "\n",
    "save_results(top20_reposts_1, 'task1_top20_reposts1.json')\n",
    "save_results(top20_reposts_2, 'task1_top20_reposts2.json')"
   ]
  },
  {
   "cell_type": "code",
   "execution_count": 6,
   "metadata": {},
   "outputs": [],
   "source": [
    "top20_followers_likes = followers_posts_likes.groupby('likerId') \\\n",
    "                                             .count() \\\n",
    "                                             .sort(desc(\"count\")) \\\n",
    "                                             .limit(20)\n",
    "\n",
    "save_results(top20_followers_likes, 'task2_top20_followers_likes.json')"
   ]
  },
  {
   "cell_type": "code",
   "execution_count": 7,
   "metadata": {},
   "outputs": [],
   "source": [
    "top20_followers_reposts = followers_posts.filter(followers_posts.copy_history.owner_id.getItem(0) == -94).select('key','copy_history.id','owner_id')\n",
    "top20_followers_reposts = top20_followers_reposts.groupBy('owner_id').count().sort(desc(\"count\")).limit(20)\n",
    "\n",
    "save_results(top20_followers_reposts, 'task2_top20_followers_reposts.json')"
   ]
  },
  {
   "cell_type": "code",
   "execution_count": 8,
   "metadata": {},
   "outputs": [
    {
     "name": "stdout",
     "output_type": "stream",
     "text": [
      "+-------------+--------------------+\n",
      "|   itmo_posts|         users_posts|\n",
      "+-------------+--------------------+\n",
      "|    -94_41684|    [43225330_12294]|\n",
      "|    -94_42316|[192932783_2713, ...|\n",
      "|-94_456242467|      [3290903_4624]|\n",
      "|    -94_40134|     [268247082_538]|\n",
      "|    -94_38995|     [147054031_307]|\n",
      "+-------------+--------------------+\n",
      "only showing top 5 rows\n",
      "\n"
     ]
    }
   ],
   "source": [
    "reposts = followers_posts.filter(followers_posts.copy_history.owner_id.getItem(0) == -94) \\\n",
    "                         .select('key','copy_history.id','copy_history.owner_id') \\\n",
    "                         .withColumn(\"owner_id\", element_at('owner_id',1)) \\\n",
    "                         .withColumn(\"id\", element_at('id',1)) \\\n",
    "                         .select(\"owner_id\",\"key\",\"id\") \\\n",
    "                         .selectExpr(\"cast(owner_id as string) owner_id\", \"cast(id as string) id\", \"key\")\n",
    "\n",
    "reposts = reposts.select(concat(col('owner_id'), lit('_'),  col('id')), 'key') \\\n",
    "                 .toDF(\"itmo_posts\",\"users_posts\")\n",
    "\n",
    "reposts = reposts.groupBy(\"itmo_posts\") \\\n",
    "                 .agg(collect_set(\"users_posts\") \\\n",
    "                 .alias(\"users_posts\"))\n",
    "\n",
    "reposts.show(5)\n",
    "\n",
    "save_results(reposts.coalesce(1), 'task3_reposts.json')"
   ]
  },
  {
   "cell_type": "code",
   "execution_count": 9,
   "metadata": {},
   "outputs": [
    {
     "name": "stdout",
     "output_type": "stream",
     "text": [
      "+---------+--------+\n",
      "|      key|  emojis|\n",
      "+---------+--------+\n",
      "|-94_42548|    [🧪]|\n",
      "|-94_41588|    [🧪]|\n",
      "|-94_41140|    [🧪]|\n",
      "|-94_41997|    [🧪]|\n",
      "|-94_42356|[🧡, 🚲]|\n",
      "+---------+--------+\n",
      "only showing top 5 rows\n",
      "\n"
     ]
    }
   ],
   "source": [
    "sc = spark.sparkContext\n",
    "emojis = sc.broadcast(emoji.UNICODE_EMOJI)\n",
    "\n",
    "extract_emoji_udf = udf(lambda text: [e for e in text if e in emojis.value], ArrayType(StringType()))\n",
    "\n",
    "posts_text = posts.filter(posts.text != \"\").select('key','text')\n",
    "text_emoji = posts_text.select(\"key\", extract_emoji_udf(\"text\").alias(\"emojis\"))\n",
    "text_emoji.sort(desc(\"emojis\")).show(5)\n",
    "\n",
    "save_results(text_emoji.coalesce(1), 'task4_text_emoji.json')"
   ]
  },
  {
   "cell_type": "code",
   "execution_count": 10,
   "metadata": {},
   "outputs": [],
   "source": [
    "likes_new = followers_posts_likes.filter(followers_posts_likes.ownerId != followers_posts_likes.likerId)\n",
    "df1 = likes_new.groupBy('likerId').agg(collect_set('ownerId').alias('ownerId_all'))\n",
    "df1 = df1.selectExpr(\"likerId as liker_owner\", \"ownerId_all as ownerId_all\")\n",
    "\n",
    "inner_join = likes_new.join(df1, likes_new.ownerId == df1.liker_owner)\n",
    "\n",
    "friends = inner_join.withColumn(\"IsFriends\",\n",
    "  expr(\"array_contains(ownerId_all, likerId)\"))\n",
    "\n",
    "friends_true = friends.filter(friends.IsFriends == True)\n",
    "\n",
    "friends_true_groups = friends_true.groupBy('ownerId').agg(collect_set('likerId').alias('friends_all'))\n",
    "\n",
    "\n",
    "save_results(friends_true_groups, 'task5_friends.json')"
   ]
  },
  {
   "cell_type": "code",
   "execution_count": 11,
   "metadata": {},
   "outputs": [],
   "source": [
    "friends_false = friends.filter(friends.IsFriends == False)\n",
    "fans = friends_false.groupBy('ownerId') \\\n",
    "                    .agg(collect_set('likerId').alias('fans_all'))\n",
    "\n",
    "save_results(fans, 'task6_fans.json')"
   ]
  },
  {
   "cell_type": "code",
   "execution_count": null,
   "metadata": {},
   "outputs": [],
   "source": []
  }
 ],
 "metadata": {
  "hide_input": false,
  "kernelspec": {
   "display_name": "Python 3",
   "language": "python",
   "name": "python3"
  },
  "language_info": {
   "codemirror_mode": {
    "name": "ipython",
    "version": 3
   },
   "file_extension": ".py",
   "mimetype": "text/x-python",
   "name": "python",
   "nbconvert_exporter": "python",
   "pygments_lexer": "ipython3",
   "version": "3.7.6"
  },
  "latex_envs": {
   "LaTeX_envs_menu_present": true,
   "autoclose": false,
   "autocomplete": true,
   "bibliofile": "biblio.bib",
   "cite_by": "apalike",
   "current_citInitial": 1,
   "eqLabelWithNumbers": true,
   "eqNumInitial": 1,
   "hotkeys": {
    "equation": "Ctrl-E",
    "itemize": "Ctrl-I"
   },
   "labels_anchors": false,
   "latex_user_defs": false,
   "report_style_numbering": false,
   "user_envs_cfg": false
  },
  "nbTranslate": {
   "displayLangs": [
    "*"
   ],
   "hotkey": "alt-t",
   "langInMainMenu": true,
   "sourceLang": "en",
   "targetLang": "fr",
   "useGoogleTranslate": true
  }
 },
 "nbformat": 4,
 "nbformat_minor": 4
}
